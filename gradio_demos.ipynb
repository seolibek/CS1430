{
  "cells": [
    {
      "cell_type": "markdown",
      "metadata": {
        "colab_type": "text",
        "id": "view-in-github"
      },
      "source": [
        "<a href=\"https://colab.research.google.com/github/timroelofs123/face_reaging/blob/main/notebooks/gradio_demos.ipynb\" target=\"_parent\"><img src=\"https://colab.research.google.com/assets/colab-badge.svg\" alt=\"Open In Colab\"/></a>"
      ]
    },
    {
      "cell_type": "markdown",
      "metadata": {
        "id": "8UPyx2FOi0bW"
      },
      "source": [
        "# Face Re-Aging Demos with Gradio; From the face_reaging repository. https://github.com/timroelofs123/face_reaging/blob/main/notebooks/gradio_demos.ipynb\n",
        "To try out the Gradio Demos using Google Colab, run the cells below.\n",
        "Be sure to select a runtime with GPU (e.g. `Runtime > Change Runtime Type > T4 (GPU)`) to make the model run fast.\n",
        "\n",
        "You can choose to either run the regular inference demo or the video demo. The demo will open in a new tab."
      ]
    },
    {
      "cell_type": "markdown",
      "metadata": {
        "id": "V63jr7pmWMKX"
      },
      "source": [
        "## Downloading files and model"
      ]
    },
    {
      "cell_type": "code",
      "execution_count": null,
      "metadata": {
        "id": "Fl-OWpFqVLad"
      },
      "outputs": [],
      "source": [
        "!git clone https://github.com/timroelofs123/face_reaging"
      ]
    },
    {
      "cell_type": "code",
      "execution_count": null,
      "metadata": {
        "id": "ljqHF5EJWGoO"
      },
      "outputs": [],
      "source": [
        "!git clone https://huggingface.co/timroelofs123/face_re-aging"
      ]
    },
    {
      "cell_type": "code",
      "execution_count": null,
      "metadata": {
        "id": "Vawn2UimWajy"
      },
      "outputs": [],
      "source": [
        "%mv face_re-aging/best_unet_model.pth face_reaging/\n",
        "%cd face_reaging/"
      ]
    },
    {
      "cell_type": "markdown",
      "metadata": {
        "id": "OezK6WkeWz2G"
      },
      "source": [
        "## Installing requirements"
      ]
    },
    {
      "cell_type": "code",
      "execution_count": null,
      "metadata": {
        "id": "U29EGu-tW69J"
      },
      "outputs": [],
      "source": [
        "%pip install gradio face_recognition antialiased_cnns kaleido av --quiet"
      ]
    },
    {
      "cell_type": "markdown",
      "metadata": {
        "id": "W1uWzCNyXafL"
      },
      "source": [
        "## Running demo"
      ]
    },
    {
      "cell_type": "markdown",
      "metadata": {
        "id": "BTQxJNr2ipm_"
      },
      "source": [
        "Re-age your photo or video with the three demos."
      ]
    },
    {
      "cell_type": "code",
      "execution_count": null,
      "metadata": {
        "id": "P-ZLGAp82ewt"
      },
      "outputs": [],
      "source": [
        "import gradio as gr\n",
        "import torch\n",
        "from model.models import UNet\n",
        "from scripts.test_functions import process_image, process_video"
      ]
    },
    {
      "cell_type": "code",
      "execution_count": null,
      "metadata": {
        "id": "izknf3I1XcyU"
      },
      "outputs": [],
      "source": [
        "# default settings\n",
        "window_size = 512\n",
        "stride = 256\n",
        "steps = 18\n",
        "frame_count = 100\n",
        "model_path = 'best_unet_model.pth'"
      ]
    },
    {
      "cell_type": "code",
      "execution_count": null,
      "metadata": {
        "id": "hHq3rGOVr0gQ"
      },
      "outputs": [],
      "source": [
        "# The code from this block equivalent to the \"run\" function in scripts.gradio_demo\n",
        "\n",
        "device = torch.device(\"cuda:0\" if torch.cuda.is_available() else \"cpu\")\n",
        "unet_model = UNet().to(device)\n",
        "unet_model.load_state_dict(torch.load(model_path, map_location=device))\n",
        "unet_model.eval()\n",
        "\n",
        "def block_img(image, source_age, target_age):\n",
        "    return process_image(unet_model, image, video=False, source_age=source_age,\n",
        "                          target_age=target_age, window_size=window_size, stride=stride)\n",
        "\n",
        "def block_img_vid(image, source_age):\n",
        "    return process_image(unet_model, image, video=True, source_age=source_age,\n",
        "                          target_age=0, window_size=window_size, stride=stride, steps=steps)\n",
        "\n",
        "def block_vid(video_path, source_age, target_age):\n",
        "    return process_video(unet_model, video_path, source_age, target_age,\n",
        "                          window_size=window_size, stride=stride, frame_count=frame_count)\n",
        "\n",
        "demo_img = gr.Interface(\n",
        "    fn=block_img,\n",
        "    inputs=[\n",
        "        gr.Image(type=\"pil\"),\n",
        "        gr.Slider(10, 90, value=20, step=1, label=\"Current age\", info=\"Choose your current age\"),\n",
        "        gr.Slider(10, 90, value=80, step=1, label=\"Target age\", info=\"Choose the age you want to become\")\n",
        "    ],\n",
        "    outputs=\"image\",\n",
        "    examples=[\n",
        "        ['assets/gradio_example_images/1.png', 20, 80],\n",
        "        ['assets/gradio_example_images/2.png', 75, 40],\n",
        "        ['assets/gradio_example_images/3.png', 30, 70],\n",
        "        ['assets/gradio_example_images/4.png', 22, 60],\n",
        "        ['assets/gradio_example_images/5.png', 28, 75],\n",
        "        ['assets/gradio_example_images/6.png', 35, 15]\n",
        "    ],\n",
        "    description=\"Input an image of a person and age them from the source age to the target age.\"\n",
        ")\n",
        "\n",
        "demo_img_vid = gr.Interface(\n",
        "    fn=block_img_vid,\n",
        "    inputs=[\n",
        "        gr.Image(type=\"pil\"),\n",
        "        gr.Slider(10, 90, value=20, step=1, label=\"Current age\", info=\"Choose your current age\"),\n",
        "    ],\n",
        "    outputs=gr.Video(),\n",
        "    examples=[\n",
        "        ['assets/gradio_example_images/1.png', 20],\n",
        "        ['assets/gradio_example_images/2.png', 75],\n",
        "        ['assets/gradio_example_images/3.png', 30],\n",
        "        ['assets/gradio_example_images/4.png', 22],\n",
        "        ['assets/gradio_example_images/5.png', 28],\n",
        "        ['assets/gradio_example_images/6.png', 35]\n",
        "    ],\n",
        "    description=\"Input an image of a person and a video will be returned of the person at different ages.\"\n",
        ")\n",
        "\n",
        "demo_vid = gr.Interface(\n",
        "    fn=block_vid,\n",
        "    inputs=[\n",
        "        gr.Video(),\n",
        "        gr.Slider(10, 90, value=20, step=1, label=\"Current age\", info=\"Choose your current age\"),\n",
        "        gr.Slider(10, 90, value=80, step=1, label=\"Target age\", info=\"Choose the age you want to become\")\n",
        "    ],\n",
        "    outputs=gr.Video(),\n",
        "    examples=[\n",
        "        ['assets/gradio_example_images/orig.mp4', 35, 60],\n",
        "    ],\n",
        "    description=\"Input a video of a person, and it will be aged frame-by-frame.\"\n",
        ")\n",
        "\n",
        "demo = gr.TabbedInterface([demo_img, demo_img_vid, demo_vid],\n",
        "                          tab_names=['Image inference demo', 'Image animation demo', 'Video inference demo'],\n",
        "                          title=\"Face Re-Aging Demo\",\n",
        "                          )"
      ]
    },
    {
      "cell_type": "code",
      "execution_count": null,
      "metadata": {
        "id": "6q2f1hVB02t-"
      },
      "outputs": [],
      "source": [
        "demo.launch()"
      ]
    }
  ],
  "metadata": {
    "accelerator": "GPU",
    "colab": {
      "authorship_tag": "ABX9TyNIpPaQqNrwjCQA4O5O1DIt",
      "gpuType": "T4",
      "include_colab_link": true,
      "provenance": []
    },
    "kernelspec": {
      "display_name": "Python 3",
      "name": "python3"
    },
    "language_info": {
      "name": "python"
    }
  },
  "nbformat": 4,
  "nbformat_minor": 0
}
